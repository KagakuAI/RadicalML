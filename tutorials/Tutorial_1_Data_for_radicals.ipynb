{
 "cells": [
  {
   "cell_type": "code",
   "execution_count": 1,
   "id": "7b852f59-0089-447f-920c-e106b53b2a8a",
   "metadata": {},
   "outputs": [],
   "source": [
    "import os\n",
    "import random\n",
    "import sys\n",
    "import gzip\n",
    "from itertools import islice\n",
    "import numpy as np\n",
    "import pandas as pd\n",
    "import rdkit\n",
    "from tqdm import tqdm\n",
    "\n",
    "from pathlib import Path\n",
    "\n",
    "from rdkit.Chem.Descriptors import NumRadicalElectrons\n",
    "\n",
    "from sklearn.model_selection import train_test_split\n",
    "\n",
    "# Ignore rdkit warnings: https://github.com/rdkit/rdkit/issues/2683\n",
    "from rdkit import RDLogger\n",
    "RDLogger.DisableLog('rdApp.*')"
   ]
  },
  {
   "cell_type": "code",
   "execution_count": 2,
   "id": "73b7241a-0f3a-41a0-ae45-8c96f6176bb8",
   "metadata": {},
   "outputs": [],
   "source": [
    "def iter_mols():\n",
    "    with gzip.open('20200415_radical_database.sdf.gz') as sdffile:\n",
    "        mol_suppl = rdkit.Chem.ForwardSDMolSupplier(sdffile, removeHs=False)\n",
    "        for mol in tqdm(mol_suppl, total=289639):\n",
    "            props = mol.GetPropsAsDict()\n",
    "            props['mol'] = mol\n",
    "            for item in ['AtomCharges', 'AtomSpins', 'VibFreqs', 'IRIntensity', 'RotConstants']:\n",
    "                if item in props:\n",
    "                    try:\n",
    "                        props[item] = eval(props[item])\n",
    "                    except NameError:\n",
    "                        pass\n",
    "                        # warn(\"Error with molecule {} property {}\".format(props['SMILES'], item))\n",
    "                    \n",
    "            props['type'] = 'molecule' if NumRadicalElectrons(mol) == 0 else 'fragment'\n",
    "            props['Name'] = mol.GetProp('_Name')\n",
    "            yield pd.Series(props)"
   ]
  },
  {
   "cell_type": "code",
   "execution_count": 3,
   "id": "4101bea5-7908-42f3-af29-d61d9de30247",
   "metadata": {},
   "outputs": [
    {
     "name": "stderr",
     "output_type": "stream",
     "text": [
      "  2%|█▍                                                                         | 5492/289639 [00:03<03:19, 1421.68it/s]\n",
      "\n",
      "KeyboardInterrupt\n",
      "\n"
     ]
    }
   ],
   "source": [
    "# 1. Load data\n",
    "df = pd.DataFrame(iter_mols())\n",
    "df[\"log(-SCFEnergy)\"] = np.log(-df[\"SCFEnergy\"])"
   ]
  },
  {
   "cell_type": "code",
   "execution_count": null,
   "id": "7a596084-e890-48de-a7a0-38909fb4f199",
   "metadata": {},
   "outputs": [],
   "source": [
    "# 2. Sample data\n",
    "df_sample = df.loc[random.sample(list(df.index), k=1000)]\n",
    "df_train, df_test = train_test_split(df_sample, test_size=0.2, random_state=42)\n",
    "\n",
    "# # 3. Save training and test set\n",
    "d_folder = Path('qc_data')\n",
    "os.makedirs(d_folder, exist_ok=True)\n",
    "\n",
    "with open(os.path.join(d_folder, \"train.csv\"), \"w\") as f:\n",
    "    for smi, y in zip(df_train[\"SMILES\"], df_train[\"log(-SCFEnergy)\"]):\n",
    "        f.write(f\"{smi},{y}\\n\")\n",
    "        \n",
    "with open(os.path.join(d_folder, \"test.csv\"), \"w\") as f:\n",
    "    for smi, y in zip(df_test[\"SMILES\"], df_test[\"log(-SCFEnergy)\"]):\n",
    "        f.write(f\"{smi},{y}\\n\")"
   ]
  },
  {
   "cell_type": "code",
   "execution_count": null,
   "id": "c064f93b-848b-4a8d-962b-0133adbd39db",
   "metadata": {},
   "outputs": [],
   "source": []
  },
  {
   "cell_type": "code",
   "execution_count": null,
   "id": "0262c22a-20f7-4710-baf4-336e0b9901e4",
   "metadata": {},
   "outputs": [],
   "source": []
  },
  {
   "cell_type": "code",
   "execution_count": null,
   "id": "39e4d774-89e4-4b05-be85-04bc28244adb",
   "metadata": {},
   "outputs": [],
   "source": []
  },
  {
   "cell_type": "code",
   "execution_count": null,
   "id": "b747dfa1-5bd3-40c7-b177-4cafabfdff2f",
   "metadata": {},
   "outputs": [],
   "source": []
  },
  {
   "cell_type": "code",
   "execution_count": null,
   "id": "af36bda0-d3f4-44ce-9c04-512ae02aee9e",
   "metadata": {},
   "outputs": [],
   "source": []
  },
  {
   "cell_type": "code",
   "execution_count": null,
   "id": "9b7a4469-c2e9-4e4a-896e-0dbae4bca772",
   "metadata": {},
   "outputs": [],
   "source": []
  },
  {
   "cell_type": "code",
   "execution_count": null,
   "id": "b0f8972f-2789-4ccc-9503-12607d687341",
   "metadata": {},
   "outputs": [],
   "source": []
  }
 ],
 "metadata": {
  "kernelspec": {
   "display_name": "radical",
   "language": "python",
   "name": "radical"
  },
  "language_info": {
   "codemirror_mode": {
    "name": "ipython",
    "version": 3
   },
   "file_extension": ".py",
   "mimetype": "text/x-python",
   "name": "python",
   "nbconvert_exporter": "python",
   "pygments_lexer": "ipython3",
   "version": "3.10.18"
  }
 },
 "nbformat": 4,
 "nbformat_minor": 5
}
